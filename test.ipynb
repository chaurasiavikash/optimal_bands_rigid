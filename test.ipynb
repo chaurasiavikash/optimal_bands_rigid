{
 "cells": [
  {
   "cell_type": "code",
   "execution_count": 35,
   "metadata": {},
   "outputs": [],
   "source": [
    "import math\n",
    "from statistics import mean\n",
    "import numpy as np\n",
    "import plotly.graph_objects as go\n",
    "import plotly.io as pio\n",
    "\n",
    "PI = math.pi"
   ]
  },
  {
   "cell_type": "code",
   "execution_count": 36,
   "metadata": {},
   "outputs": [],
   "source": [
    "\n",
    " \n",
    "def findU(cn, n, s):\n",
    "    # Function f(u)\n",
    "    def f(u):\n",
    "        return u + cn * math.sin(2 * n * u) - s\n",
    "\n",
    "    # Derivative of f(u) with respect to u\n",
    "    def df(u):\n",
    "        return 1 + 2 * n * cn * math.cos(2 * n * u)\n",
    "\n",
    "    u = s  # Initial guess\n",
    "    tolerance = 1e-8  # Tolerance for the solution\n",
    "    maxIterations = 1000  # Maximum number of iterations\n",
    "    iteration = 0\n",
    "    error = 10 * tolerance  # Initialize error\n",
    "\n",
    "    # Newton-Raphson method\n",
    "    while error > tolerance and iteration < maxIterations:\n",
    "        uNext = u - f(u) / df(u)  # Next approximation\n",
    "        error = abs(uNext - u)  # Update error\n",
    "        u = uNext  # Update u for the next iteration\n",
    "        iteration += 1\n",
    "\n",
    "    if iteration == maxIterations:\n",
    "        print(\"Solution did not converge\")\n",
    "        return None\n",
    "\n",
    "    #print(f(u))\n",
    "    return u\n",
    "\n",
    "\n",
    "def animation_data(n, N, j):\n",
    "    t = j\n",
    "    c = 1\n",
    "\n",
    "    hx = []\n",
    "    hy = []\n",
    "    hz = []\n",
    "\n",
    "    rx = []\n",
    "    ry = []\n",
    "    rz = []\n",
    "\n",
    "    kappa0 = [0] * (N + 1)\n",
    "\n",
    "    cosGamma = n / 2 - math.sqrt(n*n - 4) / 2\n",
    "    sinGamma = math.sqrt(1 - cosGamma*cosGamma)\n",
    "\n",
    "    # Initial rotation angle calculation\n",
    "    an = n * math.sqrt(n*n - 4)\n",
    "    bn = (n*n - 4 - an) / n / 2.0 \n",
    "    cn =  (math.sqrt(n*n-4)-n)/(2*PI*n*n)\n",
    "    norm_r = 1/(PI*an)\n",
    "\n",
    "    i = 0\n",
    "    xi = 0 - c * t\n",
    "    #print(f\"the value of traveling coordinate is {xi}\")\n",
    "    #print(f\"the value of arclength coordinate is {i}\")\n",
    "\n",
    "    cos2s = math.cos(2 * xi)\n",
    "    sin2s = math.sin(2 * xi)\n",
    "    cosns = math.cos(n * xi)\n",
    "    sinns = math.sin(n * xi)\n",
    "\n",
    "    cosn_m_s = math.cos(2 * (n - 1) * xi)\n",
    "    cosn_p_s = math.cos(2 * (n + 1) * xi)\n",
    "\n",
    "    sinn_m_s = math.sin(2 * (n - 1) * xi)\n",
    "    sinn_p_s = math.sin(2 * (n + 1) * xi)\n",
    "\n",
    "    tempBx = cos2s * cosns * cosGamma + sin2s * sinns\n",
    "    tempBy = sin2s * cosns * cosGamma - cos2s * sinns\n",
    "    hz.append(cosns * sinGamma)\n",
    "\n",
    "    tempRx = sinGamma / 2 * ((n - cosGamma) * sin2s - (1 + cosGamma) * sinn_m_s / (2*n - 2) + (1 - cosGamma) * sinn_p_s / (2*n + 2))\n",
    "    tempRy = -sinGamma / 2 * ((n - cosGamma) * cos2s + (1 + cosGamma) * cosn_m_s / (2*n - 2) + (1 - cosGamma) * cosn_p_s / (2*n + 2))\n",
    "    rz.append(-1 * cosns * sinns * sinGamma * sinGamma / n *norm_r)\n",
    "\n",
    "    norm1 = math.sqrt(tempRx**2 + tempRy**2)\n",
    "    cosths_0 = tempRy / norm1\n",
    "    sinths_0 = tempRx / norm1\n",
    "\n",
    "    tempRx = tempRx*norm_r\n",
    "    tempRy = tempRy*norm_r\n",
    "\n",
    "    rx.append(cosths_0 * tempRx - sinths_0 * tempRy)\n",
    "    ry.append(sinths_0 * tempRx + cosths_0 * tempRy)\n",
    "\n",
    "    hx.append(cosths_0 * tempBx - sinths_0 * tempBy)\n",
    "    hy.append(sinths_0 * tempBx + cosths_0 * tempBy)\n",
    "\n",
    "    for i in range(1,N + 1):\n",
    "        s = i / N * PI\n",
    "\n",
    "        if N < 15:\n",
    "            u = findU(cn, n, s)  # Assuming findU is defined elsewhere\n",
    "        else:\n",
    "            u = s\n",
    "\n",
    "        u = s\n",
    "        xi = u - c * t\n",
    "        #print(f\"the value of traveling coordinate is {xi}\")\n",
    "        #print(f\"the value of arclength coordinate is {i}\")\n",
    "\n",
    "        cos2s = math.cos(2 * xi)\n",
    "        sin2s = math.sin(2 * xi)\n",
    "        cosns = math.cos(n * xi)\n",
    "        sinns = math.sin(n * xi)\n",
    "\n",
    "        cosn_m_s = math.cos(2 * (n - 1) * xi)\n",
    "        cosn_p_s = math.cos(2 * (n + 1) * xi)\n",
    "\n",
    "        sinn_m_s = math.sin(2 * (n - 1) * xi)\n",
    "        sinn_p_s = math.sin(2 * (n + 1) * xi)\n",
    "\n",
    "        tempBx = cos2s * cosns * cosGamma + sin2s * sinns\n",
    "        tempBy = sin2s * cosns * cosGamma - cos2s * sinns\n",
    "        hz.append(cosns * sinGamma)\n",
    "\n",
    "        tempRx = sinGamma / 2 * ((n - cosGamma) * sin2s - (1 + cosGamma) * sinn_m_s / (2*n - 2) + (1 - cosGamma) * sinn_p_s / (2*n + 2))\n",
    "        tempRy = -sinGamma / 2 * ((n - cosGamma) * cos2s + (1 + cosGamma) * cosn_m_s / (2*n - 2) + (1 - cosGamma) * cosn_p_s / (2*n + 2))\n",
    "       \n",
    "        tempRx = tempRx*norm_r\n",
    "        tempRy = tempRy*norm_r\n",
    "        rz.append(-1 * cosns * sinns * sinGamma * sinGamma / n * norm_r)\n",
    "\n",
    "      \n",
    "\n",
    "        rx.append(cosths_0 * tempRx - sinths_0 * tempRy)\n",
    "        ry.append(sinths_0 * tempRx + cosths_0 * tempRy)\n",
    "\n",
    "        hx.append(cosths_0 * tempBx - sinths_0 * tempBy)\n",
    "        hy.append(sinths_0 * tempBx + cosths_0 * tempBy)\n",
    "\n",
    "  \n",
    "\n",
    "    return hx, hy, hz, rx, ry, rz\n",
    "\n",
    "def edge_and_mid_length(hx,hy,hz,rx,ry,rz):\n",
    "    N = len(hx)-1\n",
    "    dl_e1 = np.zeros(N)\n",
    "    dl_e2 = np.zeros(N)\n",
    "    dl_r  = np.zeros(N)\n",
    "    dl_b  = np.zeros(N)\n",
    "    l = .2\n",
    "\n",
    "    for i in range(N):\n",
    "        dl_r[i] = ((rx[i]-rx[i+1])**2 + (ry[i]-ry[i+1])**2 + (rz[i]-rz[i+1])**2)\n",
    "        dl_b[i] = ((hx[i]-hx[i+1])**2 + (hy[i]-hy[i+1])**2 + (hz[i]-hz[i+1])**2)\n",
    "\n",
    "    return dl_r,dl_b\n",
    "\n",
    "def plot2D(path_rx,path_ry, label):\n",
    "       \n",
    "\n",
    "   trace = go.Scatter(x=path_rx, y=path_ry,\n",
    "                         mode='markers',\n",
    "                         line=dict(width=4),\n",
    "                         name = label)\n",
    "   return trace\n",
    "\n",
    "\n",
    "\n",
    "\n",
    "def plot3D(path_rx,path_ry,path_rz,label):\n",
    "       \n",
    "       \n",
    "       \n",
    "      indices = np.arange(len(path_rx))\n",
    "    \n",
    "      # Convert the indices array to a string array and format it\n",
    "      hover_text = [f'Index: {i}<br>X: {x}<br>Y: {y}<br>Z: {z}' \n",
    "                  for i, x, y, z in zip(indices, path_rx, path_ry, path_rz)]\n",
    "    \n",
    "      trace = go.Scatter3d(\n",
    "         x=path_rx, \n",
    "         y=path_ry, \n",
    "         z=path_rz,\n",
    "         mode='lines+markers',  # Specify both lines and markers\n",
    "        line=dict(\n",
    "            width=1,\n",
    "            dash='dot'  # Dotted line\n",
    "        ),\n",
    "        marker=dict(\n",
    "            symbol='circle',  # Spherical markers\n",
    "            size=2  # Adjust size as needed\n",
    "        ),\n",
    "         hovertext=hover_text,  # Set the custom hover text\n",
    "         hoverinfo='text',  # Display custom text only\n",
    "         name=label\n",
    "      )\n",
    "    \n",
    "      return trace"
   ]
  },
  {
   "cell_type": "code",
   "execution_count": null,
   "metadata": {},
   "outputs": [],
   "source": [
    "\n",
    " "
   ]
  },
  {
   "cell_type": "code",
   "execution_count": 51,
   "metadata": {},
   "outputs": [
    {
     "data": {
      "application/vnd.plotly.v1+json": {
       "config": {
        "plotlyServerURL": "https://plot.ly"
       },
       "data": [
        {
         "line": {
          "width": 4
         },
         "mode": "markers",
         "name": "",
         "type": "scatter",
         "x": [
          0,
          1,
          2
         ],
         "y": [
          3.5623058987490532,
          3.5623058987490532,
          3.5623058987490532
         ]
        },
        {
         "line": {
          "width": 4
         },
         "mode": "markers",
         "name": "",
         "type": "scatter",
         "x": [
          0,
          1,
          2
         ],
         "y": [
          3.53915379594813,
          3.5391537959481294,
          3.5391537959481294
         ]
        },
        {
         "line": {
          "width": 4
         },
         "mode": "markers",
         "name": "",
         "type": "scatter",
         "x": [
          0,
          1,
          2
         ],
         "y": [
          3.470534264862801,
          3.470534264862799,
          3.4705342648627995
         ]
        },
        {
         "line": {
          "width": 4
         },
         "mode": "markers",
         "name": "",
         "type": "scatter",
         "x": [
          0,
          1,
          2
         ],
         "y": [
          3.3589273941329343,
          3.358927394132933,
          3.358927394132934
         ]
        },
        {
         "line": {
          "width": 4
         },
         "mode": "markers",
         "name": "",
         "type": "scatter",
         "x": [
          0,
          1,
          2
         ],
         "y": [
          3.208366946855573,
          3.208366946855572,
          3.2083669468555716
         ]
        },
        {
         "line": {
          "width": 4
         },
         "mode": "markers",
         "name": "",
         "type": "scatter",
         "x": [
          0,
          1,
          2
         ],
         "y": [
          3.0242945698767403,
          3.024294569876739,
          3.0242945698767403
         ]
        },
        {
         "line": {
          "width": 4
         },
         "mode": "markers",
         "name": "",
         "type": "scatter",
         "x": [
          0,
          1,
          2
         ],
         "y": [
          2.8133631184963503,
          2.81336311849635,
          2.8133631184963503
         ]
        },
        {
         "line": {
          "width": 4
         },
         "mode": "markers",
         "name": "",
         "type": "scatter",
         "x": [
          0,
          1,
          2
         ],
         "y": [
          2.5831962049438277,
          2.5831962049438273,
          2.5831962049438264
         ]
        },
        {
         "line": {
          "width": 4
         },
         "mode": "markers",
         "name": "",
         "type": "scatter",
         "x": [
          0,
          1,
          2
         ],
         "y": [
          2.3421126611690046,
          2.3421126611690033,
          2.3421126611690015
         ]
        },
        {
         "line": {
          "width": 4
         },
         "mode": "markers",
         "name": "",
         "type": "scatter",
         "x": [
          0,
          1,
          2
         ],
         "y": [
          2.0988258745809483,
          2.098825874580947,
          2.0988258745809474
         ]
        }
       ],
       "layout": {
        "template": {
         "data": {
          "bar": [
           {
            "error_x": {
             "color": "#2a3f5f"
            },
            "error_y": {
             "color": "#2a3f5f"
            },
            "marker": {
             "line": {
              "color": "#E5ECF6",
              "width": 0.5
             },
             "pattern": {
              "fillmode": "overlay",
              "size": 10,
              "solidity": 0.2
             }
            },
            "type": "bar"
           }
          ],
          "barpolar": [
           {
            "marker": {
             "line": {
              "color": "#E5ECF6",
              "width": 0.5
             },
             "pattern": {
              "fillmode": "overlay",
              "size": 10,
              "solidity": 0.2
             }
            },
            "type": "barpolar"
           }
          ],
          "carpet": [
           {
            "aaxis": {
             "endlinecolor": "#2a3f5f",
             "gridcolor": "white",
             "linecolor": "white",
             "minorgridcolor": "white",
             "startlinecolor": "#2a3f5f"
            },
            "baxis": {
             "endlinecolor": "#2a3f5f",
             "gridcolor": "white",
             "linecolor": "white",
             "minorgridcolor": "white",
             "startlinecolor": "#2a3f5f"
            },
            "type": "carpet"
           }
          ],
          "choropleth": [
           {
            "colorbar": {
             "outlinewidth": 0,
             "ticks": ""
            },
            "type": "choropleth"
           }
          ],
          "contour": [
           {
            "colorbar": {
             "outlinewidth": 0,
             "ticks": ""
            },
            "colorscale": [
             [
              0,
              "#0d0887"
             ],
             [
              0.1111111111111111,
              "#46039f"
             ],
             [
              0.2222222222222222,
              "#7201a8"
             ],
             [
              0.3333333333333333,
              "#9c179e"
             ],
             [
              0.4444444444444444,
              "#bd3786"
             ],
             [
              0.5555555555555556,
              "#d8576b"
             ],
             [
              0.6666666666666666,
              "#ed7953"
             ],
             [
              0.7777777777777778,
              "#fb9f3a"
             ],
             [
              0.8888888888888888,
              "#fdca26"
             ],
             [
              1,
              "#f0f921"
             ]
            ],
            "type": "contour"
           }
          ],
          "contourcarpet": [
           {
            "colorbar": {
             "outlinewidth": 0,
             "ticks": ""
            },
            "type": "contourcarpet"
           }
          ],
          "heatmap": [
           {
            "colorbar": {
             "outlinewidth": 0,
             "ticks": ""
            },
            "colorscale": [
             [
              0,
              "#0d0887"
             ],
             [
              0.1111111111111111,
              "#46039f"
             ],
             [
              0.2222222222222222,
              "#7201a8"
             ],
             [
              0.3333333333333333,
              "#9c179e"
             ],
             [
              0.4444444444444444,
              "#bd3786"
             ],
             [
              0.5555555555555556,
              "#d8576b"
             ],
             [
              0.6666666666666666,
              "#ed7953"
             ],
             [
              0.7777777777777778,
              "#fb9f3a"
             ],
             [
              0.8888888888888888,
              "#fdca26"
             ],
             [
              1,
              "#f0f921"
             ]
            ],
            "type": "heatmap"
           }
          ],
          "heatmapgl": [
           {
            "colorbar": {
             "outlinewidth": 0,
             "ticks": ""
            },
            "colorscale": [
             [
              0,
              "#0d0887"
             ],
             [
              0.1111111111111111,
              "#46039f"
             ],
             [
              0.2222222222222222,
              "#7201a8"
             ],
             [
              0.3333333333333333,
              "#9c179e"
             ],
             [
              0.4444444444444444,
              "#bd3786"
             ],
             [
              0.5555555555555556,
              "#d8576b"
             ],
             [
              0.6666666666666666,
              "#ed7953"
             ],
             [
              0.7777777777777778,
              "#fb9f3a"
             ],
             [
              0.8888888888888888,
              "#fdca26"
             ],
             [
              1,
              "#f0f921"
             ]
            ],
            "type": "heatmapgl"
           }
          ],
          "histogram": [
           {
            "marker": {
             "pattern": {
              "fillmode": "overlay",
              "size": 10,
              "solidity": 0.2
             }
            },
            "type": "histogram"
           }
          ],
          "histogram2d": [
           {
            "colorbar": {
             "outlinewidth": 0,
             "ticks": ""
            },
            "colorscale": [
             [
              0,
              "#0d0887"
             ],
             [
              0.1111111111111111,
              "#46039f"
             ],
             [
              0.2222222222222222,
              "#7201a8"
             ],
             [
              0.3333333333333333,
              "#9c179e"
             ],
             [
              0.4444444444444444,
              "#bd3786"
             ],
             [
              0.5555555555555556,
              "#d8576b"
             ],
             [
              0.6666666666666666,
              "#ed7953"
             ],
             [
              0.7777777777777778,
              "#fb9f3a"
             ],
             [
              0.8888888888888888,
              "#fdca26"
             ],
             [
              1,
              "#f0f921"
             ]
            ],
            "type": "histogram2d"
           }
          ],
          "histogram2dcontour": [
           {
            "colorbar": {
             "outlinewidth": 0,
             "ticks": ""
            },
            "colorscale": [
             [
              0,
              "#0d0887"
             ],
             [
              0.1111111111111111,
              "#46039f"
             ],
             [
              0.2222222222222222,
              "#7201a8"
             ],
             [
              0.3333333333333333,
              "#9c179e"
             ],
             [
              0.4444444444444444,
              "#bd3786"
             ],
             [
              0.5555555555555556,
              "#d8576b"
             ],
             [
              0.6666666666666666,
              "#ed7953"
             ],
             [
              0.7777777777777778,
              "#fb9f3a"
             ],
             [
              0.8888888888888888,
              "#fdca26"
             ],
             [
              1,
              "#f0f921"
             ]
            ],
            "type": "histogram2dcontour"
           }
          ],
          "mesh3d": [
           {
            "colorbar": {
             "outlinewidth": 0,
             "ticks": ""
            },
            "type": "mesh3d"
           }
          ],
          "parcoords": [
           {
            "line": {
             "colorbar": {
              "outlinewidth": 0,
              "ticks": ""
             }
            },
            "type": "parcoords"
           }
          ],
          "pie": [
           {
            "automargin": true,
            "type": "pie"
           }
          ],
          "scatter": [
           {
            "marker": {
             "colorbar": {
              "outlinewidth": 0,
              "ticks": ""
             }
            },
            "type": "scatter"
           }
          ],
          "scatter3d": [
           {
            "line": {
             "colorbar": {
              "outlinewidth": 0,
              "ticks": ""
             }
            },
            "marker": {
             "colorbar": {
              "outlinewidth": 0,
              "ticks": ""
             }
            },
            "type": "scatter3d"
           }
          ],
          "scattercarpet": [
           {
            "marker": {
             "colorbar": {
              "outlinewidth": 0,
              "ticks": ""
             }
            },
            "type": "scattercarpet"
           }
          ],
          "scattergeo": [
           {
            "marker": {
             "colorbar": {
              "outlinewidth": 0,
              "ticks": ""
             }
            },
            "type": "scattergeo"
           }
          ],
          "scattergl": [
           {
            "marker": {
             "colorbar": {
              "outlinewidth": 0,
              "ticks": ""
             }
            },
            "type": "scattergl"
           }
          ],
          "scattermapbox": [
           {
            "marker": {
             "colorbar": {
              "outlinewidth": 0,
              "ticks": ""
             }
            },
            "type": "scattermapbox"
           }
          ],
          "scatterpolar": [
           {
            "marker": {
             "colorbar": {
              "outlinewidth": 0,
              "ticks": ""
             }
            },
            "type": "scatterpolar"
           }
          ],
          "scatterpolargl": [
           {
            "marker": {
             "colorbar": {
              "outlinewidth": 0,
              "ticks": ""
             }
            },
            "type": "scatterpolargl"
           }
          ],
          "scatterternary": [
           {
            "marker": {
             "colorbar": {
              "outlinewidth": 0,
              "ticks": ""
             }
            },
            "type": "scatterternary"
           }
          ],
          "surface": [
           {
            "colorbar": {
             "outlinewidth": 0,
             "ticks": ""
            },
            "colorscale": [
             [
              0,
              "#0d0887"
             ],
             [
              0.1111111111111111,
              "#46039f"
             ],
             [
              0.2222222222222222,
              "#7201a8"
             ],
             [
              0.3333333333333333,
              "#9c179e"
             ],
             [
              0.4444444444444444,
              "#bd3786"
             ],
             [
              0.5555555555555556,
              "#d8576b"
             ],
             [
              0.6666666666666666,
              "#ed7953"
             ],
             [
              0.7777777777777778,
              "#fb9f3a"
             ],
             [
              0.8888888888888888,
              "#fdca26"
             ],
             [
              1,
              "#f0f921"
             ]
            ],
            "type": "surface"
           }
          ],
          "table": [
           {
            "cells": {
             "fill": {
              "color": "#EBF0F8"
             },
             "line": {
              "color": "white"
             }
            },
            "header": {
             "fill": {
              "color": "#C8D4E3"
             },
             "line": {
              "color": "white"
             }
            },
            "type": "table"
           }
          ]
         },
         "layout": {
          "annotationdefaults": {
           "arrowcolor": "#2a3f5f",
           "arrowhead": 0,
           "arrowwidth": 1
          },
          "autotypenumbers": "strict",
          "coloraxis": {
           "colorbar": {
            "outlinewidth": 0,
            "ticks": ""
           }
          },
          "colorscale": {
           "diverging": [
            [
             0,
             "#8e0152"
            ],
            [
             0.1,
             "#c51b7d"
            ],
            [
             0.2,
             "#de77ae"
            ],
            [
             0.3,
             "#f1b6da"
            ],
            [
             0.4,
             "#fde0ef"
            ],
            [
             0.5,
             "#f7f7f7"
            ],
            [
             0.6,
             "#e6f5d0"
            ],
            [
             0.7,
             "#b8e186"
            ],
            [
             0.8,
             "#7fbc41"
            ],
            [
             0.9,
             "#4d9221"
            ],
            [
             1,
             "#276419"
            ]
           ],
           "sequential": [
            [
             0,
             "#0d0887"
            ],
            [
             0.1111111111111111,
             "#46039f"
            ],
            [
             0.2222222222222222,
             "#7201a8"
            ],
            [
             0.3333333333333333,
             "#9c179e"
            ],
            [
             0.4444444444444444,
             "#bd3786"
            ],
            [
             0.5555555555555556,
             "#d8576b"
            ],
            [
             0.6666666666666666,
             "#ed7953"
            ],
            [
             0.7777777777777778,
             "#fb9f3a"
            ],
            [
             0.8888888888888888,
             "#fdca26"
            ],
            [
             1,
             "#f0f921"
            ]
           ],
           "sequentialminus": [
            [
             0,
             "#0d0887"
            ],
            [
             0.1111111111111111,
             "#46039f"
            ],
            [
             0.2222222222222222,
             "#7201a8"
            ],
            [
             0.3333333333333333,
             "#9c179e"
            ],
            [
             0.4444444444444444,
             "#bd3786"
            ],
            [
             0.5555555555555556,
             "#d8576b"
            ],
            [
             0.6666666666666666,
             "#ed7953"
            ],
            [
             0.7777777777777778,
             "#fb9f3a"
            ],
            [
             0.8888888888888888,
             "#fdca26"
            ],
            [
             1,
             "#f0f921"
            ]
           ]
          },
          "colorway": [
           "#636efa",
           "#EF553B",
           "#00cc96",
           "#ab63fa",
           "#FFA15A",
           "#19d3f3",
           "#FF6692",
           "#B6E880",
           "#FF97FF",
           "#FECB52"
          ],
          "font": {
           "color": "#2a3f5f"
          },
          "geo": {
           "bgcolor": "white",
           "lakecolor": "white",
           "landcolor": "#E5ECF6",
           "showlakes": true,
           "showland": true,
           "subunitcolor": "white"
          },
          "hoverlabel": {
           "align": "left"
          },
          "hovermode": "closest",
          "mapbox": {
           "style": "light"
          },
          "paper_bgcolor": "white",
          "plot_bgcolor": "#E5ECF6",
          "polar": {
           "angularaxis": {
            "gridcolor": "white",
            "linecolor": "white",
            "ticks": ""
           },
           "bgcolor": "#E5ECF6",
           "radialaxis": {
            "gridcolor": "white",
            "linecolor": "white",
            "ticks": ""
           }
          },
          "scene": {
           "xaxis": {
            "backgroundcolor": "#E5ECF6",
            "gridcolor": "white",
            "gridwidth": 2,
            "linecolor": "white",
            "showbackground": true,
            "ticks": "",
            "zerolinecolor": "white"
           },
           "yaxis": {
            "backgroundcolor": "#E5ECF6",
            "gridcolor": "white",
            "gridwidth": 2,
            "linecolor": "white",
            "showbackground": true,
            "ticks": "",
            "zerolinecolor": "white"
           },
           "zaxis": {
            "backgroundcolor": "#E5ECF6",
            "gridcolor": "white",
            "gridwidth": 2,
            "linecolor": "white",
            "showbackground": true,
            "ticks": "",
            "zerolinecolor": "white"
           }
          },
          "shapedefaults": {
           "line": {
            "color": "#2a3f5f"
           }
          },
          "ternary": {
           "aaxis": {
            "gridcolor": "white",
            "linecolor": "white",
            "ticks": ""
           },
           "baxis": {
            "gridcolor": "white",
            "linecolor": "white",
            "ticks": ""
           },
           "bgcolor": "#E5ECF6",
           "caxis": {
            "gridcolor": "white",
            "linecolor": "white",
            "ticks": ""
           }
          },
          "title": {
           "x": 0.05
          },
          "xaxis": {
           "automargin": true,
           "gridcolor": "white",
           "linecolor": "white",
           "ticks": "",
           "title": {
            "standoff": 15
           },
           "zerolinecolor": "white",
           "zerolinewidth": 2
          },
          "yaxis": {
           "automargin": true,
           "gridcolor": "white",
           "linecolor": "white",
           "ticks": "",
           "title": {
            "standoff": 15
           },
           "zerolinecolor": "white",
           "zerolinewidth": 2
          }
         }
        }
       }
      }
     },
     "metadata": {},
     "output_type": "display_data"
    }
   ],
   "source": [
    "n  = 3;\n",
    "N  =  n ;\n",
    " \n",
    "t = np.linspace(0,np.pi,100);\n",
    "u = np.linspace(0,N-1,N )\n",
    "len_r = np.zeros(len(t))\n",
    "len_edge1= np.zeros(len(t))\n",
    "len_edge2= np.zeros(len(t))\n",
    "\n",
    "fig = go.Figure()\n",
    "for i in range(10):\n",
    "    ti =  t[i]\n",
    "    hx, hy, hz, rx, ry, rz = animation_data(n,N,ti)\n",
    "    dl_r,dl_b = edge_and_mid_length(hx, hy, hz, rx, ry, rz)\n",
    "\n",
    "    trace = plot2D(u,dl_b,\"\")\n",
    "    fig.add_trace(trace)\n",
    "    \n",
    "\n",
    "fig.show()    \n",
    "\n",
    "    \n",
    "\n",
    "    \n",
    "\n"
   ]
  },
  {
   "cell_type": "code",
   "execution_count": 52,
   "metadata": {},
   "outputs": [
    {
     "name": "stdout",
     "output_type": "stream",
     "text": [
      "[2.09882587 2.09882587 2.09882587]\n"
     ]
    }
   ],
   "source": [
    "print(dl_b)"
   ]
  },
  {
   "cell_type": "code",
   "execution_count": 39,
   "metadata": {},
   "outputs": [
    {
     "data": {
      "application/vnd.plotly.v1+json": {
       "config": {
        "plotlyServerURL": "https://plot.ly"
       },
       "data": [
        {
         "hoverinfo": "text",
         "hovertext": [
          "Index: 0<br>X: 0.0<br>Y: 0.06667356828110747<br>Z: -0.0",
          "Index: 1<br>X: -0.05774100389239544<br>Y: -0.033336784140553716<br>Z: 1.654410162261043e-18",
          "Index: 2<br>X: 0.05774100389239542<br>Y: -0.03333678414055375<br>Z: 3.308820324522086e-18",
          "Index: 3<br>X: 1.200866100316464e-17<br>Y: 0.06667356828110747<br>Z: 4.963230486783128e-18"
         ],
         "line": {
          "dash": "dot",
          "width": 1
         },
         "marker": {
          "size": 2,
          "symbol": "circle"
         },
         "mode": "lines+markers",
         "name": "",
         "type": "scatter3d",
         "x": [
          0,
          -0.05774100389239544,
          0.05774100389239542,
          1.200866100316464e-17
         ],
         "y": [
          0.06667356828110747,
          -0.033336784140553716,
          -0.03333678414055375,
          0.06667356828110747
         ],
         "z": [
          0,
          1.654410162261043e-18,
          3.308820324522086e-18,
          4.963230486783128e-18
         ]
        }
       ],
       "layout": {
        "template": {
         "data": {
          "bar": [
           {
            "error_x": {
             "color": "#2a3f5f"
            },
            "error_y": {
             "color": "#2a3f5f"
            },
            "marker": {
             "line": {
              "color": "#E5ECF6",
              "width": 0.5
             },
             "pattern": {
              "fillmode": "overlay",
              "size": 10,
              "solidity": 0.2
             }
            },
            "type": "bar"
           }
          ],
          "barpolar": [
           {
            "marker": {
             "line": {
              "color": "#E5ECF6",
              "width": 0.5
             },
             "pattern": {
              "fillmode": "overlay",
              "size": 10,
              "solidity": 0.2
             }
            },
            "type": "barpolar"
           }
          ],
          "carpet": [
           {
            "aaxis": {
             "endlinecolor": "#2a3f5f",
             "gridcolor": "white",
             "linecolor": "white",
             "minorgridcolor": "white",
             "startlinecolor": "#2a3f5f"
            },
            "baxis": {
             "endlinecolor": "#2a3f5f",
             "gridcolor": "white",
             "linecolor": "white",
             "minorgridcolor": "white",
             "startlinecolor": "#2a3f5f"
            },
            "type": "carpet"
           }
          ],
          "choropleth": [
           {
            "colorbar": {
             "outlinewidth": 0,
             "ticks": ""
            },
            "type": "choropleth"
           }
          ],
          "contour": [
           {
            "colorbar": {
             "outlinewidth": 0,
             "ticks": ""
            },
            "colorscale": [
             [
              0,
              "#0d0887"
             ],
             [
              0.1111111111111111,
              "#46039f"
             ],
             [
              0.2222222222222222,
              "#7201a8"
             ],
             [
              0.3333333333333333,
              "#9c179e"
             ],
             [
              0.4444444444444444,
              "#bd3786"
             ],
             [
              0.5555555555555556,
              "#d8576b"
             ],
             [
              0.6666666666666666,
              "#ed7953"
             ],
             [
              0.7777777777777778,
              "#fb9f3a"
             ],
             [
              0.8888888888888888,
              "#fdca26"
             ],
             [
              1,
              "#f0f921"
             ]
            ],
            "type": "contour"
           }
          ],
          "contourcarpet": [
           {
            "colorbar": {
             "outlinewidth": 0,
             "ticks": ""
            },
            "type": "contourcarpet"
           }
          ],
          "heatmap": [
           {
            "colorbar": {
             "outlinewidth": 0,
             "ticks": ""
            },
            "colorscale": [
             [
              0,
              "#0d0887"
             ],
             [
              0.1111111111111111,
              "#46039f"
             ],
             [
              0.2222222222222222,
              "#7201a8"
             ],
             [
              0.3333333333333333,
              "#9c179e"
             ],
             [
              0.4444444444444444,
              "#bd3786"
             ],
             [
              0.5555555555555556,
              "#d8576b"
             ],
             [
              0.6666666666666666,
              "#ed7953"
             ],
             [
              0.7777777777777778,
              "#fb9f3a"
             ],
             [
              0.8888888888888888,
              "#fdca26"
             ],
             [
              1,
              "#f0f921"
             ]
            ],
            "type": "heatmap"
           }
          ],
          "heatmapgl": [
           {
            "colorbar": {
             "outlinewidth": 0,
             "ticks": ""
            },
            "colorscale": [
             [
              0,
              "#0d0887"
             ],
             [
              0.1111111111111111,
              "#46039f"
             ],
             [
              0.2222222222222222,
              "#7201a8"
             ],
             [
              0.3333333333333333,
              "#9c179e"
             ],
             [
              0.4444444444444444,
              "#bd3786"
             ],
             [
              0.5555555555555556,
              "#d8576b"
             ],
             [
              0.6666666666666666,
              "#ed7953"
             ],
             [
              0.7777777777777778,
              "#fb9f3a"
             ],
             [
              0.8888888888888888,
              "#fdca26"
             ],
             [
              1,
              "#f0f921"
             ]
            ],
            "type": "heatmapgl"
           }
          ],
          "histogram": [
           {
            "marker": {
             "pattern": {
              "fillmode": "overlay",
              "size": 10,
              "solidity": 0.2
             }
            },
            "type": "histogram"
           }
          ],
          "histogram2d": [
           {
            "colorbar": {
             "outlinewidth": 0,
             "ticks": ""
            },
            "colorscale": [
             [
              0,
              "#0d0887"
             ],
             [
              0.1111111111111111,
              "#46039f"
             ],
             [
              0.2222222222222222,
              "#7201a8"
             ],
             [
              0.3333333333333333,
              "#9c179e"
             ],
             [
              0.4444444444444444,
              "#bd3786"
             ],
             [
              0.5555555555555556,
              "#d8576b"
             ],
             [
              0.6666666666666666,
              "#ed7953"
             ],
             [
              0.7777777777777778,
              "#fb9f3a"
             ],
             [
              0.8888888888888888,
              "#fdca26"
             ],
             [
              1,
              "#f0f921"
             ]
            ],
            "type": "histogram2d"
           }
          ],
          "histogram2dcontour": [
           {
            "colorbar": {
             "outlinewidth": 0,
             "ticks": ""
            },
            "colorscale": [
             [
              0,
              "#0d0887"
             ],
             [
              0.1111111111111111,
              "#46039f"
             ],
             [
              0.2222222222222222,
              "#7201a8"
             ],
             [
              0.3333333333333333,
              "#9c179e"
             ],
             [
              0.4444444444444444,
              "#bd3786"
             ],
             [
              0.5555555555555556,
              "#d8576b"
             ],
             [
              0.6666666666666666,
              "#ed7953"
             ],
             [
              0.7777777777777778,
              "#fb9f3a"
             ],
             [
              0.8888888888888888,
              "#fdca26"
             ],
             [
              1,
              "#f0f921"
             ]
            ],
            "type": "histogram2dcontour"
           }
          ],
          "mesh3d": [
           {
            "colorbar": {
             "outlinewidth": 0,
             "ticks": ""
            },
            "type": "mesh3d"
           }
          ],
          "parcoords": [
           {
            "line": {
             "colorbar": {
              "outlinewidth": 0,
              "ticks": ""
             }
            },
            "type": "parcoords"
           }
          ],
          "pie": [
           {
            "automargin": true,
            "type": "pie"
           }
          ],
          "scatter": [
           {
            "marker": {
             "colorbar": {
              "outlinewidth": 0,
              "ticks": ""
             }
            },
            "type": "scatter"
           }
          ],
          "scatter3d": [
           {
            "line": {
             "colorbar": {
              "outlinewidth": 0,
              "ticks": ""
             }
            },
            "marker": {
             "colorbar": {
              "outlinewidth": 0,
              "ticks": ""
             }
            },
            "type": "scatter3d"
           }
          ],
          "scattercarpet": [
           {
            "marker": {
             "colorbar": {
              "outlinewidth": 0,
              "ticks": ""
             }
            },
            "type": "scattercarpet"
           }
          ],
          "scattergeo": [
           {
            "marker": {
             "colorbar": {
              "outlinewidth": 0,
              "ticks": ""
             }
            },
            "type": "scattergeo"
           }
          ],
          "scattergl": [
           {
            "marker": {
             "colorbar": {
              "outlinewidth": 0,
              "ticks": ""
             }
            },
            "type": "scattergl"
           }
          ],
          "scattermapbox": [
           {
            "marker": {
             "colorbar": {
              "outlinewidth": 0,
              "ticks": ""
             }
            },
            "type": "scattermapbox"
           }
          ],
          "scatterpolar": [
           {
            "marker": {
             "colorbar": {
              "outlinewidth": 0,
              "ticks": ""
             }
            },
            "type": "scatterpolar"
           }
          ],
          "scatterpolargl": [
           {
            "marker": {
             "colorbar": {
              "outlinewidth": 0,
              "ticks": ""
             }
            },
            "type": "scatterpolargl"
           }
          ],
          "scatterternary": [
           {
            "marker": {
             "colorbar": {
              "outlinewidth": 0,
              "ticks": ""
             }
            },
            "type": "scatterternary"
           }
          ],
          "surface": [
           {
            "colorbar": {
             "outlinewidth": 0,
             "ticks": ""
            },
            "colorscale": [
             [
              0,
              "#0d0887"
             ],
             [
              0.1111111111111111,
              "#46039f"
             ],
             [
              0.2222222222222222,
              "#7201a8"
             ],
             [
              0.3333333333333333,
              "#9c179e"
             ],
             [
              0.4444444444444444,
              "#bd3786"
             ],
             [
              0.5555555555555556,
              "#d8576b"
             ],
             [
              0.6666666666666666,
              "#ed7953"
             ],
             [
              0.7777777777777778,
              "#fb9f3a"
             ],
             [
              0.8888888888888888,
              "#fdca26"
             ],
             [
              1,
              "#f0f921"
             ]
            ],
            "type": "surface"
           }
          ],
          "table": [
           {
            "cells": {
             "fill": {
              "color": "#EBF0F8"
             },
             "line": {
              "color": "white"
             }
            },
            "header": {
             "fill": {
              "color": "#C8D4E3"
             },
             "line": {
              "color": "white"
             }
            },
            "type": "table"
           }
          ]
         },
         "layout": {
          "annotationdefaults": {
           "arrowcolor": "#2a3f5f",
           "arrowhead": 0,
           "arrowwidth": 1
          },
          "autotypenumbers": "strict",
          "coloraxis": {
           "colorbar": {
            "outlinewidth": 0,
            "ticks": ""
           }
          },
          "colorscale": {
           "diverging": [
            [
             0,
             "#8e0152"
            ],
            [
             0.1,
             "#c51b7d"
            ],
            [
             0.2,
             "#de77ae"
            ],
            [
             0.3,
             "#f1b6da"
            ],
            [
             0.4,
             "#fde0ef"
            ],
            [
             0.5,
             "#f7f7f7"
            ],
            [
             0.6,
             "#e6f5d0"
            ],
            [
             0.7,
             "#b8e186"
            ],
            [
             0.8,
             "#7fbc41"
            ],
            [
             0.9,
             "#4d9221"
            ],
            [
             1,
             "#276419"
            ]
           ],
           "sequential": [
            [
             0,
             "#0d0887"
            ],
            [
             0.1111111111111111,
             "#46039f"
            ],
            [
             0.2222222222222222,
             "#7201a8"
            ],
            [
             0.3333333333333333,
             "#9c179e"
            ],
            [
             0.4444444444444444,
             "#bd3786"
            ],
            [
             0.5555555555555556,
             "#d8576b"
            ],
            [
             0.6666666666666666,
             "#ed7953"
            ],
            [
             0.7777777777777778,
             "#fb9f3a"
            ],
            [
             0.8888888888888888,
             "#fdca26"
            ],
            [
             1,
             "#f0f921"
            ]
           ],
           "sequentialminus": [
            [
             0,
             "#0d0887"
            ],
            [
             0.1111111111111111,
             "#46039f"
            ],
            [
             0.2222222222222222,
             "#7201a8"
            ],
            [
             0.3333333333333333,
             "#9c179e"
            ],
            [
             0.4444444444444444,
             "#bd3786"
            ],
            [
             0.5555555555555556,
             "#d8576b"
            ],
            [
             0.6666666666666666,
             "#ed7953"
            ],
            [
             0.7777777777777778,
             "#fb9f3a"
            ],
            [
             0.8888888888888888,
             "#fdca26"
            ],
            [
             1,
             "#f0f921"
            ]
           ]
          },
          "colorway": [
           "#636efa",
           "#EF553B",
           "#00cc96",
           "#ab63fa",
           "#FFA15A",
           "#19d3f3",
           "#FF6692",
           "#B6E880",
           "#FF97FF",
           "#FECB52"
          ],
          "font": {
           "color": "#2a3f5f"
          },
          "geo": {
           "bgcolor": "white",
           "lakecolor": "white",
           "landcolor": "#E5ECF6",
           "showlakes": true,
           "showland": true,
           "subunitcolor": "white"
          },
          "hoverlabel": {
           "align": "left"
          },
          "hovermode": "closest",
          "mapbox": {
           "style": "light"
          },
          "paper_bgcolor": "white",
          "plot_bgcolor": "#E5ECF6",
          "polar": {
           "angularaxis": {
            "gridcolor": "white",
            "linecolor": "white",
            "ticks": ""
           },
           "bgcolor": "#E5ECF6",
           "radialaxis": {
            "gridcolor": "white",
            "linecolor": "white",
            "ticks": ""
           }
          },
          "scene": {
           "xaxis": {
            "backgroundcolor": "#E5ECF6",
            "gridcolor": "white",
            "gridwidth": 2,
            "linecolor": "white",
            "showbackground": true,
            "ticks": "",
            "zerolinecolor": "white"
           },
           "yaxis": {
            "backgroundcolor": "#E5ECF6",
            "gridcolor": "white",
            "gridwidth": 2,
            "linecolor": "white",
            "showbackground": true,
            "ticks": "",
            "zerolinecolor": "white"
           },
           "zaxis": {
            "backgroundcolor": "#E5ECF6",
            "gridcolor": "white",
            "gridwidth": 2,
            "linecolor": "white",
            "showbackground": true,
            "ticks": "",
            "zerolinecolor": "white"
           }
          },
          "shapedefaults": {
           "line": {
            "color": "#2a3f5f"
           }
          },
          "ternary": {
           "aaxis": {
            "gridcolor": "white",
            "linecolor": "white",
            "ticks": ""
           },
           "baxis": {
            "gridcolor": "white",
            "linecolor": "white",
            "ticks": ""
           },
           "bgcolor": "#E5ECF6",
           "caxis": {
            "gridcolor": "white",
            "linecolor": "white",
            "ticks": ""
           }
          },
          "title": {
           "x": 0.05
          },
          "xaxis": {
           "automargin": true,
           "gridcolor": "white",
           "linecolor": "white",
           "ticks": "",
           "title": {
            "standoff": 15
           },
           "zerolinecolor": "white",
           "zerolinewidth": 2
          },
          "yaxis": {
           "automargin": true,
           "gridcolor": "white",
           "linecolor": "white",
           "ticks": "",
           "title": {
            "standoff": 15
           },
           "zerolinecolor": "white",
           "zerolinewidth": 2
          }
         }
        }
       }
      }
     },
     "metadata": {},
     "output_type": "display_data"
    }
   ],
   "source": [
    "fig = go.Figure()\n",
    "fig.add_trace(plot3D(rx,ry,rz,\"\"))\n",
    "fig.show()"
   ]
  },
  {
   "cell_type": "code",
   "execution_count": 40,
   "metadata": {},
   "outputs": [
    {
     "name": "stdout",
     "output_type": "stream",
     "text": [
      "0.9999999999999999\n",
      "0.9999999999999999\n",
      "0.9999999999999999\n",
      "0.9999999999999999\n"
     ]
    }
   ],
   "source": [
    "for i in range(len(hx)):\n",
    "    print(hx[i]**2 + hy[i]**2 + hz[i]**2)"
   ]
  },
  {
   "cell_type": "code",
   "execution_count": 41,
   "metadata": {},
   "outputs": [
    {
     "data": {
      "text/plain": [
       "[0.0, -0.05774100389239544, 0.05774100389239542, 1.200866100316464e-17]"
      ]
     },
     "execution_count": 41,
     "metadata": {},
     "output_type": "execute_result"
    }
   ],
   "source": [
    "rx"
   ]
  },
  {
   "cell_type": "code",
   "execution_count": 42,
   "metadata": {},
   "outputs": [
    {
     "data": {
      "text/plain": [
       "[0.06667356828110747,\n",
       " -0.033336784140553716,\n",
       " -0.03333678414055375,\n",
       " 0.06667356828110747]"
      ]
     },
     "execution_count": 42,
     "metadata": {},
     "output_type": "execute_result"
    }
   ],
   "source": [
    "ry"
   ]
  },
  {
   "cell_type": "code",
   "execution_count": 43,
   "metadata": {},
   "outputs": [
    {
     "data": {
      "text/plain": [
       "[-0.0, 1.654410162261043e-18, 3.308820324522086e-18, 4.963230486783128e-18]"
      ]
     },
     "execution_count": 43,
     "metadata": {},
     "output_type": "execute_result"
    }
   ],
   "source": [
    "rz"
   ]
  },
  {
   "cell_type": "code",
   "execution_count": null,
   "metadata": {},
   "outputs": [],
   "source": []
  }
 ],
 "metadata": {
  "kernelspec": {
   "display_name": "Python 3",
   "language": "python",
   "name": "python3"
  },
  "language_info": {
   "codemirror_mode": {
    "name": "ipython",
    "version": 3
   },
   "file_extension": ".py",
   "mimetype": "text/x-python",
   "name": "python",
   "nbconvert_exporter": "python",
   "pygments_lexer": "ipython3",
   "version": "3.11.6"
  }
 },
 "nbformat": 4,
 "nbformat_minor": 2
}
